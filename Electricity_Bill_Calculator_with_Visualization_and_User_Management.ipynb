{
 "cells": [
  {
   "cell_type": "markdown",
   "id": "dd3c8ea6-feeb-4eb3-9f1c-7316155fc45d",
   "metadata": {},
   "source": [
    "# Import necessary libraries"
   ]
  },
  {
   "cell_type": "code",
   "execution_count": 1,
   "id": "c2226a58-175f-40fa-bb47-5d7548c32836",
   "metadata": {},
   "outputs": [],
   "source": [
    "import matplotlib.pyplot as plt\n",
    "import seaborn as sns"
   ]
  },
  {
   "cell_type": "markdown",
   "id": "04687755-1802-44f9-a511-0bcb3aa941e4",
   "metadata": {},
   "source": [
    "# Initialize data store"
   ]
  },
  {
   "cell_type": "code",
   "execution_count": 2,
   "id": "feba6b28-8e2d-4a13-a216-073d313eb56a",
   "metadata": {},
   "outputs": [],
   "source": [
    "data={}"
   ]
  },
  {
   "cell_type": "markdown",
   "id": "31686a37-221f-4672-9e36-19589e19d38d",
   "metadata": {},
   "source": [
    "\n",
    "# Main Menu and Options"
   ]
  },
  {
   "cell_type": "code",
   "execution_count": 3,
   "id": "58715eed-15a8-4a66-87b8-eed238e416a5",
   "metadata": {},
   "outputs": [],
   "source": [
    "def Main():\n",
    "    for i in range(1, 4):\n",
    "        a = int(input(\"\"\"\n",
    "             1 = Register with new username\n",
    "             2 = Login with existing username\n",
    "             3 = Exit\n",
    "             \"\"\"))\n",
    "        if a == 1:\n",
    "            register()\n",
    "            break\n",
    "        elif a == 2:\n",
    "            login()\n",
    "            break\n",
    "        elif a == 3:\n",
    "            break\n",
    "        else:\n",
    "            print(\"Invalid selection\")\n",
    "            if i < 3:\n",
    "                print(f'Only {3-i} chances left')\n",
    "            else:\n",
    "                print(\"3 chances are exceeded, goodbye\")"
   ]
  },
  {
   "cell_type": "markdown",
   "id": "86784baf-58a1-44d2-8387-4fa13143f8a0",
   "metadata": {},
   "source": [
    "# User Management: Registration"
   ]
  },
  {
   "cell_type": "code",
   "execution_count": 4,
   "id": "63a026dd-cc02-4372-a433-1c552c616def",
   "metadata": {},
   "outputs": [],
   "source": [
    "def register():\n",
    "    print(\"Welcome to EB calculator - register\".center(75))\n",
    "    username = input(\"Enter your username: \")\n",
    "    if username in data:\n",
    "        print(\"Username already exists. Please try a different username.\")\n",
    "    else:\n",
    "        name = input(\"Enter name: \")\n",
    "        mobile = input(\"Enter mobile: \")\n",
    "        email = input(\"Enter email: \")\n",
    "        password = input(\"Set password: \")\n",
    "        data[username] = {\n",
    "            'PI': {\n",
    "                'name': name,\n",
    "                'mobile': mobile,\n",
    "                'email': email,\n",
    "                'password': password\n",
    "            },\n",
    "            'EB_bills': {}\n",
    "        }\n",
    "        print(\"Registration successful\")\n",
    "    Main()"
   ]
  },
  {
   "cell_type": "markdown",
   "id": "20681253-f46f-4b1c-9bc1-050c664b5a7a",
   "metadata": {},
   "source": [
    "# User Management: Login"
   ]
  },
  {
   "cell_type": "code",
   "execution_count": 5,
   "id": "34069f5f-20aa-4a8b-bd5c-b93de4eb12e6",
   "metadata": {},
   "outputs": [],
   "source": [
    "def login():\n",
    "    username = input('Enter username: ')\n",
    "    if username in data:\n",
    "        for i in range(1, 4):\n",
    "            password = input('Enter password: ')\n",
    "            if password == data[username]['PI']['password']:\n",
    "                print(\"Login successful\")\n",
    "                options(username)\n",
    "                return\n",
    "            else:\n",
    "                if i < 3:\n",
    "                    print(f'Only {3-i} chances left')\n",
    "                else:\n",
    "                    print(\"3 chances are exceeded, goodbye\")\n",
    "                    Main()\n",
    "                print(\"Incorrect password\")\n",
    "    else:\n",
    "        print(\"Invalid username\")\n",
    "        Main()\n"
   ]
  },
  {
   "cell_type": "markdown",
   "id": "ec9f92e7-38fd-46f3-8d77-9a244433d95d",
   "metadata": {},
   "source": [
    "# Main Options Menu"
   ]
  },
  {
   "cell_type": "code",
   "execution_count": 6,
   "id": "49623c43-cbfb-417b-b912-7268034f9623",
   "metadata": {},
   "outputs": [],
   "source": [
    "def options(username):\n",
    "    print(\"You are in options page\")\n",
    "    for i in range(1, 6):\n",
    "        a = int(input(\"\"\"\n",
    "             Select an option:\n",
    "             1 = EB bill calculator\n",
    "             2 = History\n",
    "             3 = View personal info\n",
    "             4 = Change info\n",
    "             5 = Logout\n",
    "             \"\"\"))\n",
    "        if a == 1:\n",
    "            EB(username)\n",
    "            break\n",
    "        elif a == 2:\n",
    "            history(username)\n",
    "            break\n",
    "        elif a == 3:\n",
    "            view(username)\n",
    "            break\n",
    "        elif a == 4:\n",
    "            change_info(username)\n",
    "            break\n",
    "        elif a == 5:\n",
    "            logout()\n",
    "            break\n",
    "        else:\n",
    "            print(\"Invalid selection\")\n",
    "            if i < 3:\n",
    "                print(f'Only {3-i} chances left')\n",
    "            else:\n",
    "                print(\"3 chances are exceeded, goodbye\")\n",
    "                Main()\n"
   ]
  },
  {
   "cell_type": "markdown",
   "id": "62cfdacf-6288-47c2-8b7f-9f903c0b2167",
   "metadata": {},
   "source": [
    "# EB Bill Calculator Logic"
   ]
  },
  {
   "cell_type": "code",
   "execution_count": 7,
   "id": "882e93e4-89f5-4066-b14e-ef905d405ea6",
   "metadata": {
    "scrolled": true
   },
   "outputs": [],
   "source": [
    "def EB(username):\n",
    "    print(\"EB page\".center(75))\n",
    "    year = int(input('Enter year: '))\n",
    "    months = {i: j for i, j in zip(range(1, 13), [\"Jan\", \"Feb\", \"Mar\", \"Apr\", \"May\", \"Jun\", \"Jul\", \"Aug\", \"Sep\", \"Oct\", \"Nov\", \"Dec\"])}\n",
    "    for i, j in months.items():\n",
    "        print(i, ' = ', j)\n",
    "    month = months[int(input('Enter month number: '))]\n",
    "    units = float(input(\"Enter total units consumed: \"))\n",
    "\n",
    "    if units <= 100:\n",
    "        amt = 0\n",
    "        sur = 0\n",
    "    elif 100 < units <= 200:\n",
    "        amt = (units - 100) * 2\n",
    "        sur = 10\n",
    "    elif 200 < units <= 300:\n",
    "        amt = 100 * 2 + (units - 200) * 3\n",
    "        sur = 20\n",
    "    elif 300 < units <= 400:\n",
    "        amt = 100 * 2 + 100 * 3 + (units - 300) * 4\n",
    "        sur = 30\n",
    "    else:\n",
    "        amt = 100 * 2 + 100 * 3 + 100 * 4 + (units - 400) * 5\n",
    "        sur = 50\n",
    "\n",
    "    print(f\"Hello user, the total bill amount for using {units} units is Rs. {amt + sur}\")\n",
    "\n",
    "    if year in data[username]['EB_bills']:\n",
    "        data[username]['EB_bills'][year][month] = {'units': units, 'amt': amt + sur}\n",
    "    else:\n",
    "        data[username]['EB_bills'][year] = {month: {'units': units, 'amt': amt + sur}}\n",
    "\n",
    "    options(username)"
   ]
  },
  {
   "cell_type": "markdown",
   "id": "b0865258-1523-46e8-b4a9-19ba3b950def",
   "metadata": {},
   "source": [
    "# View Personal Info"
   ]
  },
  {
   "cell_type": "code",
   "execution_count": 8,
   "id": "4596d4f7-4b3e-47fd-aea1-0337fe078582",
   "metadata": {
    "scrolled": true
   },
   "outputs": [],
   "source": [
    "def view(username):\n",
    "    print(\"View page\")\n",
    "    for i, j in data[username]['PI'].items():\n",
    "        print(i, \"=\", j)\n",
    "    for i in range(1, 8):\n",
    "        a = int(input(\"\"\"\n",
    "             Select an option:\n",
    "             1 = Change any information\n",
    "             2 = Back to options\n",
    "             3 = Logout\n",
    "             \"\"\"))\n",
    "        if a == 1:\n",
    "            change_info(username)\n",
    "            break\n",
    "        elif a == 2:\n",
    "            options(username)\n",
    "            break\n",
    "        elif a == 3:\n",
    "            logout()\n",
    "            break\n",
    "        else:\n",
    "            print(\"Invalid selection\")\n",
    "            if i < 3:\n",
    "                print(f'Only {3-i} chances left')\n",
    "            else:\n",
    "                print(\"3 chances are exceeded, goodbye\")\n",
    "                Main()\n"
   ]
  },
  {
   "cell_type": "markdown",
   "id": "ad5b699c-26d9-4f01-bab6-f6a753f272a0",
   "metadata": {},
   "source": [
    "# Change User Information"
   ]
  },
  {
   "cell_type": "code",
   "execution_count": 9,
   "id": "a72aaef2-54f6-4051-8e2b-8bc31afe2ed3",
   "metadata": {},
   "outputs": [],
   "source": [
    "def change_info(username):\n",
    "    print(\"Change info page\")\n",
    "    for i in range(1, 8):\n",
    "        a = int(input(\"\"\"\n",
    "             Select an option:\n",
    "             1 = Change name\n",
    "             2 = Change mobile number\n",
    "             3 = Change email ID\n",
    "             4 = Update password\n",
    "             5 = Change username\n",
    "             6 = View personal info\n",
    "             7 = Back to options\n",
    "             8 = Logout\n",
    "             \"\"\"))\n",
    "        if a == 1:\n",
    "            data[username]['PI']['name'] = input(\"Enter new name: \")\n",
    "            print(\"Name changed successfully\")\n",
    "        elif a == 2:\n",
    "            data[username]['PI']['mobile'] = input(\"Enter new mobile number: \")\n",
    "            print(\"Mobile number changed successfully\")\n",
    "        elif a == 3:\n",
    "            data[username]['PI']['email'] = input(\"Enter new email ID: \")\n",
    "            print(\"Email changed successfully\")\n",
    "        elif a == 4:\n",
    "            pass1 = input(\"Enter new password: \")\n",
    "            pass2 = input(\"Confirm new password: \")\n",
    "            if pass1 == pass2:\n",
    "                data[username]['PI']['password'] = pass2\n",
    "                print(\"Password changed successfully\")\n",
    "            else:\n",
    "                print(\"Passwords do not match\")\n",
    "        elif a == 5:\n",
    "            new_username = input(\"Enter new username: \")\n",
    "            if new_username in data:\n",
    "                print(\"Username already exists.\")\n",
    "            else:\n",
    "                data[new_username] = data.pop(username)\n",
    "                username = new_username\n",
    "                print(\"Username changed successfully\")\n",
    "        elif a == 6:\n",
    "            view(username)\n",
    "            break\n",
    "        elif a == 7:\n",
    "            options(username)\n",
    "            break\n",
    "        elif a == 8:\n",
    "            logout()\n",
    "            break\n",
    "        else:\n",
    "            print(\"Invalid selection\")\n",
    "            if i < 3:\n",
    "                print(f'Only {3-i} chances left')\n",
    "            else:\n",
    "                print(\"3 chances are exceeded, goodbye\")\n",
    "                Main()"
   ]
  },
  {
   "cell_type": "markdown",
   "id": "501da13d-e4d9-40e6-9baa-4f97711be062",
   "metadata": {},
   "source": [
    "# Logout"
   ]
  },
  {
   "cell_type": "code",
   "execution_count": 10,
   "id": "591ebb0a-7660-46c1-98ff-268d63349190",
   "metadata": {},
   "outputs": [],
   "source": [
    "def logout():\n",
    "    print(\"Logged out successfully\")\n",
    "    Main()"
   ]
  },
  {
   "cell_type": "markdown",
   "id": "c0bfd6ad-941f-4ffc-bc6e-a701c5a02c2d",
   "metadata": {},
   "source": [
    "# History of Bills"
   ]
  },
  {
   "cell_type": "code",
   "execution_count": 24,
   "id": "55eb3064-075e-4ab5-8d82-cebe481aa565",
   "metadata": {},
   "outputs": [],
   "source": [
    "def history(username):\n",
    "    print(\"History page\")\n",
    "    user_history = data[username]['EB_bills']  # Extract the user's history\n",
    "\n",
    "    for i in range(1, 6):\n",
    "        a = int(input(\"\"\"\n",
    "             Select an option:\n",
    "             1 = Complete history\n",
    "             2 = History for a particular year\n",
    "             3 = History for a particular month in a particular year\n",
    "             4 = Generate visualizations\n",
    "             5 = Exit\n",
    "             \"\"\"))\n",
    "\n",
    "        if a == 1:\n",
    "            for year in user_history:\n",
    "                print(f\"Year = {year}\")\n",
    "                for month in user_history[year]:\n",
    "                    print(f\"\"\"\n",
    "                    #########################################\n",
    "                    Month = {month}\n",
    "                    Units = {user_history[year][month]['units']}\n",
    "                    Amount = {user_history[year][month]['amt']}\n",
    "                    ##########################################\"\"\")\n",
    "            options(username)\n",
    "            break\n",
    "\n",
    "        elif a == 2:\n",
    "            for i, year in enumerate(user_history.keys(), 1):\n",
    "                print(f\"{i} = {year}\")\n",
    "            year_mapping = {i: year for i, year in enumerate(user_history.keys(), 1)}\n",
    "            a = int(input())\n",
    "            year = year_mapping.get(a)\n",
    "            if year:\n",
    "                for month in user_history[year]:\n",
    "                    print(f\"\"\"\n",
    "                    #########################################\n",
    "                    Month = {month}\n",
    "                    Units = {user_history[year][month]['units']}\n",
    "                    Amount = {user_history[year][month]['amt']}\n",
    "                    ##########################################\"\"\")\n",
    "            options(username)\n",
    "            break\n",
    "\n",
    "        elif a == 3:\n",
    "            for i, year in enumerate(user_history.keys(), 1):\n",
    "                print(f\"{i} = {year}\")\n",
    "            year_mapping = {i: year for i, year in enumerate(user_history.keys(), 1)}\n",
    "            year_choice = int(input())\n",
    "            year = year_mapping.get(year_choice)\n",
    "            if year:\n",
    "                months = {i: j for i, j in enumerate(user_history[year].keys(), 1)}\n",
    "                for i, month in months.items():\n",
    "                    print(f\"{i} = {month}\")\n",
    "                month_choice = int(input())\n",
    "                month = months.get(month_choice)\n",
    "                if month:\n",
    "                    print(f\"\"\"\n",
    "                    #########################################\n",
    "                    Units = {user_history[year][month]['units']}\n",
    "                    Amount = {user_history[year][month]['amt']}\n",
    "                    ##########################################\"\"\")\n",
    "            options(username)\n",
    "            break\n",
    "\n",
    "        elif a == 4:\n",
    "            generate_visualizations(user_history)  # Pass the user's history\n",
    "            options(username)\n",
    "            break\n",
    "\n",
    "        elif a == 5:\n",
    "            options(username)\n",
    "            break\n",
    "\n",
    "        else:\n",
    "            print(\"Invalid selection\")\n",
    "            if i < 3:\n",
    "                print(f'Only {3-i} chances left')\n",
    "            else:\n",
    "                print(\"3 chances are exceeded, goodbye\")\n",
    "                Main()\n"
   ]
  },
  {
   "cell_type": "markdown",
   "id": "6cb31f6e-cf30-49ea-a8c9-a2a928cdb005",
   "metadata": {},
   "source": [
    "# Plot Yearly and Monthly Consumption"
   ]
  },
  {
   "cell_type": "code",
   "execution_count": 26,
   "id": "337c2ca8-80bf-4f57-828c-0f9b0be949e0",
   "metadata": {},
   "outputs": [],
   "source": [
    "import matplotlib.pyplot as plt\n",
    "\n",
    "def generate_visualizations(user_history):\n",
    "    print(\"Generate visualizations page\")\n",
    "    \n",
    "    for i in range(1, 4):\n",
    "        choice = int(input(\"\"\"\n",
    "             Select an option:\n",
    "             1 = Plot yearly consumption\n",
    "             2 = Plot monthly consumption for a year\n",
    "             3 = Back to options\n",
    "             \"\"\"))\n",
    "\n",
    "        if choice == 1:\n",
    "            # Yearly Consumption Plot\n",
    "            years = list(user_history.keys())\n",
    "            total_units = [sum(month_data[\"units\"] for month_data in user_history[year].values()) for year in years]\n",
    "            \n",
    "            plt.figure(figsize=(10, 5))\n",
    "            plt.bar(years, total_units, color='skyblue')\n",
    "            plt.xlabel(\"Year\")\n",
    "            plt.ylabel(\"Total Units Consumed\")\n",
    "            plt.title(\"Yearly Electricity Consumption\")\n",
    "            plt.show()\n",
    "\n",
    "        elif choice == 2:\n",
    "            # Monthly Consumption Plot for a Year\n",
    "            print(\"Select a year:\")\n",
    "            year_mapping = {i: year for i, year in enumerate(user_history.keys(), 1)}\n",
    "            for i, year in year_mapping.items():\n",
    "                print(f\"{i} = {year}\")\n",
    "            year_choice = int(input())\n",
    "            year = year_mapping.get(year_choice)\n",
    "            \n",
    "            if year:\n",
    "                months = list(user_history[year].keys())\n",
    "                units = [user_history[year][month][\"units\"] for month in months]\n",
    "                \n",
    "                plt.figure(figsize=(10, 5))\n",
    "                plt.plot(months, units, marker='o', color='orange')\n",
    "                plt.xlabel(\"Month\")\n",
    "                plt.ylabel(\"Units Consumed\")\n",
    "                plt.title(f\"Monthly Electricity Consumption for {year}\")\n",
    "                plt.show()\n",
    "            else:\n",
    "                print(\"Invalid year selection. Please try again.\")\n",
    "\n",
    "        elif choice == 3:\n",
    "            return  # Back to the previous menu\n",
    "        \n",
    "        else:\n",
    "            print(\"Invalid selection\")\n",
    "            if i < 3:\n",
    "                print(f'Only {3-i} chances left')\n",
    "            else:\n",
    "                print(\"3 chances are exceeded, returning to main options\")\n",
    "                return\n"
   ]
  },
  {
   "cell_type": "markdown",
   "id": "98795e85-df75-4576-86db-ceef1fd85808",
   "metadata": {},
   "source": [
    "# Plot Yearly Consumption"
   ]
  },
  {
   "cell_type": "code",
   "execution_count": 14,
   "id": "e2a8151f-aaa2-4403-bb05-a51b73b25dc8",
   "metadata": {},
   "outputs": [],
   "source": [
    "# Plot Yearly Consumption\n",
    "def plot_yearly_consumption(username):\n",
    "    years = list(data[username]['EB_bills'].keys())\n",
    "    yearly_units = [sum(data[username]['EB_bills'][year][month]['units'] \n",
    "                        for month in data[username]['EB_bills'][year].keys()) \n",
    "                    for year in years]\n",
    "\n",
    "    plt.figure(figsize=(12, 6))\n",
    "    sns.barplot(x=years, y=yearly_units, palette='viridis')\n",
    "    plt.xlabel('Year')\n",
    "    plt.ylabel('Total Units Consumed')\n",
    "    plt.title('Total Electricity Units Consumed per Year')\n",
    "    plt.xticks(rotation=45)\n",
    "    plt.show()"
   ]
  },
  {
   "cell_type": "markdown",
   "id": "9bfca8f9-be2e-4ee7-92f9-db73af23fd1c",
   "metadata": {},
   "source": [
    "# Plot Monthly Consumption for a Year"
   ]
  },
  {
   "cell_type": "code",
   "execution_count": null,
   "id": "26bb85cb-0246-444b-be5f-9624596294fb",
   "metadata": {},
   "outputs": [],
   "source": [
    "def plot_monthly_consumption(username, year):\n",
    "    if year not in data[username]['EB_bills']:\n",
    "        print(f\"No data available for the year {year}\")\n",
    "        return\n",
    "    \n",
    "    months = list(data[username]['EB_bills'][year].keys())\n",
    "    monthly_units = [data[username]['EB_bills'][year][month]['units'] \n",
    "                     for month in months]\n",
    "\n",
    "    plt.figure(figsize=(12, 6))\n",
    "    sns.barplot(x=months, y=monthly_units, palette='viridis')\n",
    "    plt.xlabel('Month')\n",
    "    plt.ylabel('Units Consumed')\n",
    "    plt.title(f'Electricity Units Consumed per Month in {year}')\n",
    "    plt.xticks(rotation=45)\n",
    "    plt.show()"
   ]
  },
  {
   "cell_type": "markdown",
   "id": "f7a86d4f-1cc1-4ff0-ab1a-8845569a2421",
   "metadata": {},
   "source": [
    "# Start the application"
   ]
  },
  {
   "cell_type": "code",
   "execution_count": null,
   "id": "dd458336-42d4-4adf-933e-452d1bb2fc98",
   "metadata": {},
   "outputs": [],
   "source": [
    "if __name__ == \"__main__\":\n",
    "    Main() "
   ]
  }
 ],
 "metadata": {
  "kernelspec": {
   "display_name": "Python 3 (ipykernel)",
   "language": "python",
   "name": "python3"
  },
  "language_info": {
   "codemirror_mode": {
    "name": "ipython",
    "version": 3
   },
   "file_extension": ".py",
   "mimetype": "text/x-python",
   "name": "python",
   "nbconvert_exporter": "python",
   "pygments_lexer": "ipython3",
   "version": "3.11.7"
  }
 },
 "nbformat": 4,
 "nbformat_minor": 5
}
